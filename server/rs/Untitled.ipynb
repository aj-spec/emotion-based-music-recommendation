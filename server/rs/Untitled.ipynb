{
 "cells": [
  {
   "cell_type": "code",
   "execution_count": 415,
   "metadata": {},
   "outputs": [],
   "source": [
    "import numpy as np\n",
    "import matplotlib.pyplot as plt\n",
    "from matplotlib import style\n",
    "style.use(\"ggplot\")\n",
    "from sklearn.cluster import KMeans"
   ]
  },
  {
   "cell_type": "code",
   "execution_count": 416,
   "metadata": {},
   "outputs": [],
   "source": [
    "# Most of this code is NOT my own work\n",
    "# Utilizing code from https://github.com/SylCard/Spotify-Emotions-Project/blob/master/Clustering_Spotify_Songs.ipynb"
   ]
  },
  {
   "cell_type": "code",
   "execution_count": 417,
   "metadata": {},
   "outputs": [],
   "source": [
    "import spotipy\n",
    "import pandas as pd\n",
    "import random\n",
    "import json\n",
    "import time\n",
    "def get_user_token(username: str, scope: str, redirect_uri: str) -> str:\n",
    "    \"\"\"get token for specified user via credentials\"\"\"\n",
    "    with open(\"../credentials/spotify_credentials.json\", \"r\") as file:\n",
    "        creds = json.load(file)\n",
    "    return spotipy.util.prompt_for_user_token(username, scope, creds['CLIENT_ID'], creds['CLIENT_SECRET'],\n",
    "                                              redirect_uri)\n",
    "def authenticate_spotify(token: str) -> spotipy.Spotify:\n",
    "    \"\"\"authenticates Spotify account via the passed in token\"\"\"\n",
    "    print('...connecting to Spotify')\n",
    "    sp = spotipy.Spotify(auth=token)\n",
    "    if sp:\n",
    "        print('Connected to Spotify!')\n",
    "    else:\n",
    "        print('Unable to connect to Spotify.')\n",
    "    return sp\n",
    "\n",
    "\n",
    "def get_track_features(track_id: str, sp: spotipy.Spotify):\n",
    "    \"\"\"get dict of track features\"\"\"\n",
    "    if track_id is None:\n",
    "        return None\n",
    "    else:\n",
    "        features = sp.audio_features([track_id])\n",
    "    return features\n",
    "\n",
    "\n",
    "def get_tracks_with_features(tracks: list, sp: spotipy.Spotify) -> list:\n",
    "    \"\"\"return list of dicts with track info and features\"\"\"\n",
    "    tracks_with_features = []\n",
    "    #tracks = [] list input\n",
    "    for track in tracks:\n",
    "        #print(track)\n",
    "        features = get_track_features(track['id'], sp)\n",
    "        if features:\n",
    "            f = features[0]\n",
    "            tracks_with_features.append(dict(\n",
    "                                            id=track['id'],\n",
    "                                            artist=track['artist'],\n",
    "                                            name=track['name'],\n",
    "                                            danceability=f['danceability'],\n",
    "                                            instrumentalness=f['instrumentalness'],\n",
    "                                            energy=f['energy'],\n",
    "                                            loudness=f['loudness'],\n",
    "                                            speechiness=f['speechiness'],\n",
    "                                            acousticness=f['acousticness'],\n",
    "                                            tempo=f['tempo'],\n",
    "                                            liveness=f['liveness'],\n",
    "                                            valence=f['valence']\n",
    "                                            ))\n",
    "    return tracks_with_features\n",
    "\n",
    "\n",
    "def get_all_tracks_from_playlists(username: str, sp: spotipy.Spotify) -> list:\n",
    "    print('...getting all tracks from playlists')\n",
    "    playlists = sp.user_playlists(username)\n",
    "    trackList = []\n",
    "    for playlist in playlists['items']:\n",
    "        if playlist['owner']['id'] == username:\n",
    "            print(playlist['name'], ' no. of tracks: ', playlist['tracks']['total'])\n",
    "            results = sp.user_playlist(username, playlist['id'], fields=\"tracks,next\")\n",
    "            tracks = results['tracks']\n",
    "            for i, item in enumerate(tracks['items']):\n",
    "                track = item['track']\n",
    "                trackList.append(dict(id=track['id'], artist=track['artists'][0]['name'], name=track['name']))\n",
    "    return trackList\n",
    "\n",
    "\n",
    "def get_top_artists(sp: spotipy.Spotify, amount: int = 25) -> list:\n",
    "    \"\"\"compiles list of user's top artists of length amount\"\"\"\n",
    "    print('...getting top artists')\n",
    "    artists_name = []\n",
    "    artists_uri = []\n",
    "    ranges = ['short_term', 'medium_term', 'long_term']\n",
    "    for r in ranges:\n",
    "        all_top_artist_data = sp.current_user_top_artists(limit=amount, time_range=r)\n",
    "        top_artist_data = all_top_artist_data['items']\n",
    "        for artist_data in top_artist_data:\n",
    "            if artist_data['name'] not in artists_name:\n",
    "                artists_name.append(artist_data['name'])\n",
    "                artists_uri.append(artist_data['uri'])\n",
    "    return artists_uri\n",
    "\n",
    "\n",
    "def get_top_and_similar_artists(sp: spotipy.Spotify, amount: int = 25) -> list:\n",
    "    \"\"\"compiles a list of top and similar artists of length amount\"\"\"\n",
    "    print('...getting top and similar artists')\n",
    "    artists_name = []\n",
    "    artists_uri = []\n",
    "    ranges = ['short_term', 'medium_term', 'long_term']\n",
    "    for r in ranges:\n",
    "        all_top_artist_data = sp.current_user_top_artists(limit=amount, time_range=r)\n",
    "        top_artist_data = all_top_artist_data['items']\n",
    "        for artist_data in top_artist_data:\n",
    "            if artist_data['name'] not in artists_name and len(artists_uri) < amount:\n",
    "                artists_name.append(artist_data['name'])\n",
    "                artists_uri.append(artist_data['uri'])\n",
    "                similar_artists_data = sp.artist_related_artists(artist_id=artist_data['uri'])\n",
    "                for index, similar_artist_data in enumerate(similar_artists_data['artists']):\n",
    "                    if similar_artist_data['name'] not in artists_name and len(artists_uri) < amount:\n",
    "                        artists_name.append(similar_artist_data['name'])\n",
    "                        artists_uri.append(similar_artist_data['uri'])\n",
    "                    if index == 2:\n",
    "                        break\n",
    "    return artists_uri\n",
    "\n",
    "\n",
    "def get_artists_top_tracks(sp: spotipy.Spotify, artists_uri: list, amount: int = 50) -> list:\n",
    "    \"\"\"compiles unordered list of top tracks made by artists in artists_uri of length amount\"\"\"\n",
    "    print('...getting top tracks for each artist')\n",
    "    tracks = []\n",
    "    for artist in artists_uri:\n",
    "        all_top_tracks_data = sp.artist_top_tracks(artist)\n",
    "        top_tracks_data = all_top_tracks_data['tracks']\n",
    "        for track_data in top_tracks_data:\n",
    "            tracks.append(dict(id=track_data['id'], artist=track_data['artists'][0]['name'], name=track_data['name']))\n",
    "            #print('track    : ' + track_data['name'])\n",
    "            #print('artist    : ' + track_data['artists'][0]['name'])\n",
    "            #print('id ' + track_data['id'])\n",
    "            #print()\n",
    "            #tracks.append(track_data)\n",
    "    #random.shuffle(tracks)\n",
    "    #tracks = tracks[0:amount]\n",
    "    return tracks\n",
    "\n",
    "\n",
    "def create_playlist(sp: spotipy.Spotify, tracks: list, playlist_name: str, amount: int = 0):\n",
    "    \"\"\"creates a playlist or tracks from tracks_uri on the users account of length amount\"\"\"\n",
    "    print('...creating playlist')\n",
    "    if amount == 0:\n",
    "        amount = len(tracks)\n",
    "    user_id = sp.current_user()[\"id\"]\n",
    "    playlist_id = sp.user_playlist_create(user_id, playlist_name)[\"id\"]\n",
    "    random.shuffle(tracks)\n",
    "    tracks_uri = []\n",
    "    for track in tracks[0:amount]:\n",
    "        tracks_uri.append(track['uri'])\n",
    "    sp.user_playlist_add_tracks(user_id, playlist_id, tracks_uri)\n",
    "    print('playlist, {}, has been generated.'.format(playlist_name))\n",
    "\n",
    "\n",
    "def write_to_csv(track_features):\n",
    "    df = pd.DataFrame(track_features)\n",
    "    df.drop_duplicates(subset=['id'])\n",
    "    print('Total tracks in data set', len(df))\n",
    "    df.to_csv('mySongsDataSet.csv', index=False)\n",
    "\n",
    "def get_library(username: str, sp: spotipy.Spotify) -> list:\n",
    "    print(\"Getting tracks from user library..\")\n",
    "    trackList = []\n",
    "    library = sp.current_user_saved_tracks()\n",
    "    for item in library['items']:\n",
    "        track = item['track']\n",
    "        trackList.append(dict(id=track['id'], artist=track['artists'][0]['name'], name=track['name']))\n",
    "    return trackList\n",
    "    \n",
    "def merge_dicts(list1: list, list2: list) -> list:\n",
    "    #append two dictionaries together\n",
    "    for item in list1:\n",
    "        if item not in list2:\n",
    "            list2.append(item)\n",
    "    return list2\n",
    "\n",
    "def get_all_songs(username: str, sp: spotipy.Spotify) -> list:\n",
    "    #Method which gets songs from library, playlists, and top artists and similar artists into 1 dict\n",
    "    print(\"Getting tracks from library...\")\n",
    "    trackList = [] #returning list\n",
    "    #get all songs from playlists\n",
    "    playlists = get_all_tracks_from_playlists(username, sp)\n",
    "    #get all songs from library\n",
    "    library = get_library(username, sp)\n",
    "    #merge library and tracklist\n",
    "    trackList = merge_dicts(playlists, library)\n",
    "    #get all songs from top artists and similar artists\n",
    "    preferences = get_artists_top_tracks(sp, get_top_and_similar_artists(sp))\n",
    "    trackList = merge_dicts(preferences, trackList)\n",
    "    return trackList\n",
    "\n",
    "def get_recent_tracks(username: str, sp: spotipy.Spotify) -> list:\n",
    "    print('...getting the recent tracks from a user')\n",
    "    recent_tracks = []\n",
    "    afterTime = time.time()\n",
    "    print(afterTime)\n",
    "    #afterTime = afterTime - 2629743  #one month ago\n",
    "    afterTime = afterTime - 604800 #one week ago\n",
    "    print(afterTime)\n",
    "    recent_tracks = sp.current_user_recently_played(after=afterTime)\n",
    "    return recent_tracks\n",
    "def show_tracks(tracks):\n",
    "    for i, item in enumerate(tracks['items']):\n",
    "        track = item['track']\n",
    "        print(\"   %d %32.32s %s\" % (i, track['artists'][0]['name'],\n",
    "            track['name']))"
   ]
  },
  {
   "cell_type": "code",
   "execution_count": 418,
   "metadata": {},
   "outputs": [
    {
     "name": "stdout",
     "output_type": "stream",
     "text": [
      "token got\n",
      "...connecting to Spotify\n",
      "Connected to Spotify!\n"
     ]
    }
   ],
   "source": [
    "username = 'timdoozie'\n",
    "scope = 'user-library-read user-top-read playlist-modify-public user-follow-read'\n",
    "redirect_uri = 'https://localhost:8000/callback'\n",
    "\n",
    "token = get_user_token(username, scope, redirect_uri)\n",
    "results = []\n",
    "if token:\n",
    "    print('token got')\n",
    "else:\n",
    "    print(\"Cant get token for \", username)\n",
    "sp = authenticate_spotify(token)"
   ]
  },
  {
   "cell_type": "code",
   "execution_count": 419,
   "metadata": {},
   "outputs": [
    {
     "name": "stdout",
     "output_type": "stream",
     "text": [
      "Getting tracks from library...\n",
      "...getting all tracks from playlists\n",
      "TEST  no. of tracks:  0\n",
      "TEST  no. of tracks:  50\n",
      "ttv timdoozy  no. of tracks:  40\n",
      "Chill Zone  no. of tracks:  40\n",
      "Danger Zone  no. of tracks:  451\n",
      "Getting tracks from user library..\n",
      "...getting top and similar artists\n",
      "...getting top tracks for each artist\n"
     ]
    }
   ],
   "source": [
    "trackList = get_all_songs(username, sp)"
   ]
  },
  {
   "cell_type": "code",
   "execution_count": 420,
   "metadata": {},
   "outputs": [
    {
     "data": {
      "text/plain": [
       "449"
      ]
     },
     "execution_count": 420,
     "metadata": {},
     "output_type": "execute_result"
    }
   ],
   "source": [
    "len(trackList)"
   ]
  },
  {
   "cell_type": "code",
   "execution_count": 421,
   "metadata": {},
   "outputs": [
    {
     "name": "stdout",
     "output_type": "stream",
     "text": [
      "retrying after...1secs\n",
      "retrying after...2secs\n"
     ]
    }
   ],
   "source": [
    "#be patient with this line\n",
    "trackFeatures = get_tracks_with_features(trackList, sp)"
   ]
  },
  {
   "cell_type": "code",
   "execution_count": 422,
   "metadata": {},
   "outputs": [],
   "source": [
    "songs = pd.DataFrame.from_dict(trackFeatures)"
   ]
  },
  {
   "cell_type": "code",
   "execution_count": 423,
   "metadata": {},
   "outputs": [
    {
     "data": {
      "image/png": "[encoded data removed]",
      "text/plain": [
       "<Figure size 288x72 with 1 Axes>"
      ]
     },
     "metadata": {},
     "output_type": "display_data"
    }
   ],
   "source": [
    "from __future__ import division, print_function, unicode_literals\n",
    "import os\n",
    "np.random.seed()\n",
    "\n",
    "%matplotlib inline\n",
    "import matplotlib as mpl\n",
    "mpl.rc('axes', labelsize=14)\n",
    "mpl.rc('xtick', labelsize=12)\n",
    "mpl.rc('ytick', labelsize=12)\n",
    "\n",
    "import seaborn as sns\n",
    "#set style of plots\n",
    "sns.set_style('white')\n",
    "\n",
    "#define a custom palette\n",
    "customPalette = ['#630C3A', '#39C8C6', '#D3500C', '#FFB139']\n",
    "sns.set_palette(customPalette)\n",
    "sns.palplot(customPalette)\n",
    "\n",
    "\n",
    "# Ignore useless warnings (see SciPy issue #5998)\n",
    "import warnings\n",
    "warnings.filterwarnings(action=\"ignore\", message=\"^internal gelsd\")"
   ]
  },
  {
   "cell_type": "code",
   "execution_count": 424,
   "metadata": {},
   "outputs": [],
   "source": [
    "#df.get('2nr6iUHCilKUfyL9CicbQE', 'energy')"
   ]
  },
  {
   "cell_type": "code",
   "execution_count": 425,
   "metadata": {},
   "outputs": [
    {
     "data": {
      "text/html": [
       "<div>\n",
       "<style scoped>\n",
       "    .dataframe tbody tr th:only-of-type {\n",
       "        vertical-align: middle;\n",
       "    }\n",
       "\n",
       "    .dataframe tbody tr th {\n",
       "        vertical-align: top;\n",
       "    }\n",
       "\n",
       "    .dataframe thead th {\n",
       "        text-align: right;\n",
       "    }\n",
       "</style>\n",
       "<table border=\"1\" class=\"dataframe\">\n",
       "  <thead>\n",
       "    <tr style=\"text-align: right;\">\n",
       "      <th></th>\n",
       "      <th>id</th>\n",
       "      <th>artist</th>\n",
       "      <th>name</th>\n",
       "      <th>danceability</th>\n",
       "      <th>instrumentalness</th>\n",
       "      <th>energy</th>\n",
       "      <th>loudness</th>\n",
       "      <th>speechiness</th>\n",
       "      <th>acousticness</th>\n",
       "      <th>tempo</th>\n",
       "      <th>liveness</th>\n",
       "      <th>valence</th>\n",
       "    </tr>\n",
       "  </thead>\n",
       "  <tbody>\n",
       "    <tr>\n",
       "      <th>0</th>\n",
       "      <td>2nr6iUHCilKUfyL9CicbQE</td>\n",
       "      <td>Steely Dan</td>\n",
       "      <td>Do It Again</td>\n",
       "      <td>0.683</td>\n",
       "      <td>0.000042</td>\n",
       "      <td>0.533</td>\n",
       "      <td>-10.253</td>\n",
       "      <td>0.0313</td>\n",
       "      <td>0.2060</td>\n",
       "      <td>124.571</td>\n",
       "      <td>0.0525</td>\n",
       "      <td>0.964</td>\n",
       "    </tr>\n",
       "    <tr>\n",
       "      <th>1</th>\n",
       "      <td>7kv7zBjMtVf0eIJle2VZxn</td>\n",
       "      <td>Glen Campbell</td>\n",
       "      <td>Southern Nights</td>\n",
       "      <td>0.697</td>\n",
       "      <td>0.023200</td>\n",
       "      <td>0.813</td>\n",
       "      <td>-8.890</td>\n",
       "      <td>0.0315</td>\n",
       "      <td>0.0989</td>\n",
       "      <td>95.301</td>\n",
       "      <td>0.5830</td>\n",
       "      <td>0.850</td>\n",
       "    </tr>\n",
       "    <tr>\n",
       "      <th>2</th>\n",
       "      <td>55GxhCTq6SY3tFTVh7z1nR</td>\n",
       "      <td>King Harvest</td>\n",
       "      <td>Dancing In The Moonlight</td>\n",
       "      <td>0.653</td>\n",
       "      <td>0.000000</td>\n",
       "      <td>0.719</td>\n",
       "      <td>-5.262</td>\n",
       "      <td>0.0363</td>\n",
       "      <td>0.6840</td>\n",
       "      <td>136.153</td>\n",
       "      <td>0.4080</td>\n",
       "      <td>0.682</td>\n",
       "    </tr>\n",
       "    <tr>\n",
       "      <th>3</th>\n",
       "      <td>3XF5xLJHOQQRbWya6hBp7d</td>\n",
       "      <td>Billie Eilish</td>\n",
       "      <td>you should see me in a crown</td>\n",
       "      <td>0.678</td>\n",
       "      <td>0.219000</td>\n",
       "      <td>0.533</td>\n",
       "      <td>-10.485</td>\n",
       "      <td>0.1860</td>\n",
       "      <td>0.4620</td>\n",
       "      <td>150.455</td>\n",
       "      <td>0.1390</td>\n",
       "      <td>0.323</td>\n",
       "    </tr>\n",
       "    <tr>\n",
       "      <th>4</th>\n",
       "      <td>3QzAOrNlsabgbMwlZt7TAY</td>\n",
       "      <td>Mustard</td>\n",
       "      <td>Ballin' (with Roddy Ricch)</td>\n",
       "      <td>0.809</td>\n",
       "      <td>0.000000</td>\n",
       "      <td>0.545</td>\n",
       "      <td>-6.678</td>\n",
       "      <td>0.0735</td>\n",
       "      <td>0.3920</td>\n",
       "      <td>97.008</td>\n",
       "      <td>0.1510</td>\n",
       "      <td>0.244</td>\n",
       "    </tr>\n",
       "  </tbody>\n",
       "</table>\n",
       "</div>"
      ],
      "text/plain": [
       "                       id         artist                          name  \\\n",
       "0  2nr6iUHCilKUfyL9CicbQE     Steely Dan                   Do It Again   \n",
       "1  7kv7zBjMtVf0eIJle2VZxn  Glen Campbell               Southern Nights   \n",
       "2  55GxhCTq6SY3tFTVh7z1nR   King Harvest      Dancing In The Moonlight   \n",
       "3  3XF5xLJHOQQRbWya6hBp7d  Billie Eilish  you should see me in a crown   \n",
       "4  3QzAOrNlsabgbMwlZt7TAY        Mustard    Ballin' (with Roddy Ricch)   \n",
       "\n",
       "   danceability  instrumentalness  energy  loudness  speechiness  \\\n",
       "0         0.683          0.000042   0.533   -10.253       0.0313   \n",
       "1         0.697          0.023200   0.813    -8.890       0.0315   \n",
       "2         0.653          0.000000   0.719    -5.262       0.0363   \n",
       "3         0.678          0.219000   0.533   -10.485       0.1860   \n",
       "4         0.809          0.000000   0.545    -6.678       0.0735   \n",
       "\n",
       "   acousticness    tempo  liveness  valence  \n",
       "0        0.2060  124.571    0.0525    0.964  \n",
       "1        0.0989   95.301    0.5830    0.850  \n",
       "2        0.6840  136.153    0.4080    0.682  \n",
       "3        0.4620  150.455    0.1390    0.323  \n",
       "4        0.3920   97.008    0.1510    0.244  "
      ]
     },
     "execution_count": 425,
     "metadata": {},
     "output_type": "execute_result"
    }
   ],
   "source": [
    "songs.head()"
   ]
  },
  {
   "cell_type": "code",
   "execution_count": 426,
   "metadata": {},
   "outputs": [
    {
     "name": "stdout",
     "output_type": "stream",
     "text": [
      "<class 'pandas.core.frame.DataFrame'>\n",
      "RangeIndex: 449 entries, 0 to 448\n",
      "Data columns (total 12 columns):\n",
      " #   Column            Non-Null Count  Dtype  \n",
      "---  ------            --------------  -----  \n",
      " 0   id                449 non-null    object \n",
      " 1   artist            449 non-null    object \n",
      " 2   name              449 non-null    object \n",
      " 3   danceability      449 non-null    float64\n",
      " 4   instrumentalness  449 non-null    float64\n",
      " 5   energy            449 non-null    float64\n",
      " 6   loudness          449 non-null    float64\n",
      " 7   speechiness       449 non-null    float64\n",
      " 8   acousticness      449 non-null    float64\n",
      " 9   tempo             449 non-null    float64\n",
      " 10  liveness          449 non-null    float64\n",
      " 11  valence           449 non-null    float64\n",
      "dtypes: float64(9), object(3)\n",
      "memory usage: 42.2+ KB\n"
     ]
    }
   ],
   "source": [
    "songs.info()"
   ]
  },
  {
   "cell_type": "code",
   "execution_count": 427,
   "metadata": {},
   "outputs": [
    {
     "data": {
      "text/html": [
       "<div>\n",
       "<style scoped>\n",
       "    .dataframe tbody tr th:only-of-type {\n",
       "        vertical-align: middle;\n",
       "    }\n",
       "\n",
       "    .dataframe tbody tr th {\n",
       "        vertical-align: top;\n",
       "    }\n",
       "\n",
       "    .dataframe thead th {\n",
       "        text-align: right;\n",
       "    }\n",
       "</style>\n",
       "<table border=\"1\" class=\"dataframe\">\n",
       "  <thead>\n",
       "    <tr style=\"text-align: right;\">\n",
       "      <th></th>\n",
       "      <th>danceability</th>\n",
       "      <th>instrumentalness</th>\n",
       "      <th>energy</th>\n",
       "      <th>loudness</th>\n",
       "      <th>speechiness</th>\n",
       "      <th>acousticness</th>\n",
       "      <th>tempo</th>\n",
       "      <th>liveness</th>\n",
       "      <th>valence</th>\n",
       "    </tr>\n",
       "  </thead>\n",
       "  <tbody>\n",
       "    <tr>\n",
       "      <th>count</th>\n",
       "      <td>449.000000</td>\n",
       "      <td>449.000000</td>\n",
       "      <td>449.00000</td>\n",
       "      <td>449.000000</td>\n",
       "      <td>449.000000</td>\n",
       "      <td>449.000000</td>\n",
       "      <td>449.000000</td>\n",
       "      <td>449.000000</td>\n",
       "      <td>449.000000</td>\n",
       "    </tr>\n",
       "    <tr>\n",
       "      <th>mean</th>\n",
       "      <td>0.617138</td>\n",
       "      <td>0.130824</td>\n",
       "      <td>0.61208</td>\n",
       "      <td>-7.772873</td>\n",
       "      <td>0.108636</td>\n",
       "      <td>0.246571</td>\n",
       "      <td>120.276869</td>\n",
       "      <td>0.191633</td>\n",
       "      <td>0.461019</td>\n",
       "    </tr>\n",
       "    <tr>\n",
       "      <th>std</th>\n",
       "      <td>0.160764</td>\n",
       "      <td>0.274744</td>\n",
       "      <td>0.21128</td>\n",
       "      <td>3.807136</td>\n",
       "      <td>0.106111</td>\n",
       "      <td>0.292974</td>\n",
       "      <td>31.264298</td>\n",
       "      <td>0.153852</td>\n",
       "      <td>0.224704</td>\n",
       "    </tr>\n",
       "    <tr>\n",
       "      <th>min</th>\n",
       "      <td>0.135000</td>\n",
       "      <td>0.000000</td>\n",
       "      <td>0.01610</td>\n",
       "      <td>-25.358000</td>\n",
       "      <td>0.024700</td>\n",
       "      <td>0.000010</td>\n",
       "      <td>47.811000</td>\n",
       "      <td>0.021000</td>\n",
       "      <td>0.033700</td>\n",
       "    </tr>\n",
       "    <tr>\n",
       "      <th>25%</th>\n",
       "      <td>0.505000</td>\n",
       "      <td>0.000000</td>\n",
       "      <td>0.49100</td>\n",
       "      <td>-9.187000</td>\n",
       "      <td>0.039900</td>\n",
       "      <td>0.010400</td>\n",
       "      <td>94.582000</td>\n",
       "      <td>0.099000</td>\n",
       "      <td>0.282000</td>\n",
       "    </tr>\n",
       "    <tr>\n",
       "      <th>50%</th>\n",
       "      <td>0.624000</td>\n",
       "      <td>0.000146</td>\n",
       "      <td>0.61000</td>\n",
       "      <td>-7.072000</td>\n",
       "      <td>0.061600</td>\n",
       "      <td>0.116000</td>\n",
       "      <td>118.028000</td>\n",
       "      <td>0.128000</td>\n",
       "      <td>0.446000</td>\n",
       "    </tr>\n",
       "    <tr>\n",
       "      <th>75%</th>\n",
       "      <td>0.734000</td>\n",
       "      <td>0.041800</td>\n",
       "      <td>0.77500</td>\n",
       "      <td>-5.273000</td>\n",
       "      <td>0.128000</td>\n",
       "      <td>0.422000</td>\n",
       "      <td>141.863000</td>\n",
       "      <td>0.233000</td>\n",
       "      <td>0.620000</td>\n",
       "    </tr>\n",
       "    <tr>\n",
       "      <th>max</th>\n",
       "      <td>0.935000</td>\n",
       "      <td>0.955000</td>\n",
       "      <td>0.99700</td>\n",
       "      <td>-1.270000</td>\n",
       "      <td>0.568000</td>\n",
       "      <td>0.986000</td>\n",
       "      <td>213.900000</td>\n",
       "      <td>0.982000</td>\n",
       "      <td>0.975000</td>\n",
       "    </tr>\n",
       "  </tbody>\n",
       "</table>\n",
       "</div>"
      ],
      "text/plain": [
       "       danceability  instrumentalness     energy    loudness  speechiness  \\\n",
       "count    449.000000        449.000000  449.00000  449.000000   449.000000   \n",
       "mean       0.617138          0.130824    0.61208   -7.772873     0.108636   \n",
       "std        0.160764          0.274744    0.21128    3.807136     0.106111   \n",
       "min        0.135000          0.000000    0.01610  -25.358000     0.024700   \n",
       "25%        0.505000          0.000000    0.49100   -9.187000     0.039900   \n",
       "50%        0.624000          0.000146    0.61000   -7.072000     0.061600   \n",
       "75%        0.734000          0.041800    0.77500   -5.273000     0.128000   \n",
       "max        0.935000          0.955000    0.99700   -1.270000     0.568000   \n",
       "\n",
       "       acousticness       tempo    liveness     valence  \n",
       "count    449.000000  449.000000  449.000000  449.000000  \n",
       "mean       0.246571  120.276869    0.191633    0.461019  \n",
       "std        0.292974   31.264298    0.153852    0.224704  \n",
       "min        0.000010   47.811000    0.021000    0.033700  \n",
       "25%        0.010400   94.582000    0.099000    0.282000  \n",
       "50%        0.116000  118.028000    0.128000    0.446000  \n",
       "75%        0.422000  141.863000    0.233000    0.620000  \n",
       "max        0.986000  213.900000    0.982000    0.975000  "
      ]
     },
     "execution_count": 427,
     "metadata": {},
     "output_type": "execute_result"
    }
   ],
   "source": [
    "songs.describe()"
   ]
  },
  {
   "cell_type": "code",
   "execution_count": 428,
   "metadata": {},
   "outputs": [
    {
     "data": {
      "text/plain": [
       "array([[<matplotlib.axes._subplots.AxesSubplot object at 0x133cac640>,\n",
       "        <matplotlib.axes._subplots.AxesSubplot object at 0x133c49f10>,\n",
       "        <matplotlib.axes._subplots.AxesSubplot object at 0x133d10550>],\n",
       "       [<matplotlib.axes._subplots.AxesSubplot object at 0x133d3cc10>,\n",
       "        <matplotlib.axes._subplots.AxesSubplot object at 0x133cda3d0>,\n",
       "        <matplotlib.axes._subplots.AxesSubplot object at 0x133d77a90>],\n",
       "       [<matplotlib.axes._subplots.AxesSubplot object at 0x133d77b80>,\n",
       "        <matplotlib.axes._subplots.AxesSubplot object at 0x133de13a0>,\n",
       "        <matplotlib.axes._subplots.AxesSubplot object at 0x133ef1250>]],\n",
       "      dtype=object)"
      ]
     },
     "execution_count": 428,
     "metadata": {},
     "output_type": "execute_result"
    },
    {
     "data": {
      "image/png": "[encoded data removed]",
      "text/plain": [
       "<Figure size 1440x1080 with 9 Axes>"
      ]
     },
     "metadata": {},
     "output_type": "display_data"
    }
   ],
   "source": [
    "from sklearn import preprocessing\n",
    "\n",
    "loudness = songs[['loudness']].values\n",
    "min_max_scaler = preprocessing.MinMaxScaler()\n",
    "loudness_scaled = min_max_scaler.fit_transform(loudness)\n",
    "songs['loudness'] = pd.DataFrame(loudness_scaled)\n",
    "\n",
    "tempo = songs[['tempo']].values\n",
    "min_max_scaler = preprocessing.MinMaxScaler()\n",
    "tempo_scaled = min_max_scaler.fit_transform(loudness)\n",
    "songs['tempo'] = pd.DataFrame(tempo_scaled)\n",
    "\n",
    "\n",
    "songs.hist(bins=50,figsize=(20,15))"
   ]
  },
  {
   "cell_type": "code",
   "execution_count": 429,
   "metadata": {
    "scrolled": false
   },
   "outputs": [],
   "source": [
    "# remove song names, artist and id before clustering\n",
    "songs_features = songs.copy()\n",
    "#songs_features = songs_features.drop(['name','artist','id'],axis=1)\n",
    "songs_features = songs_features.drop(['id','instrumentalness','acousticness','name','artist','liveness'],axis=1)"
   ]
  },
  {
   "cell_type": "code",
   "execution_count": 430,
   "metadata": {},
   "outputs": [],
   "source": [
    "Sum_of_squared_distances = []\n",
    "K = range(1,15)\n",
    "for k in K:\n",
    "    km = KMeans(n_clusters=k)\n",
    "    km = km.fit(songs_features)\n",
    "    Sum_of_squared_distances.append(km.inertia_)"
   ]
  },
  {
   "cell_type": "code",
   "execution_count": 431,
   "metadata": {},
   "outputs": [
    {
     "name": "stdout",
     "output_type": "stream",
     "text": [
      "For n_clusters = 2, silhouette score is 0.2790233791871161)\n",
      "For n_clusters = 3, silhouette score is 0.2510610201099381)\n",
      "For n_clusters = 4, silhouette score is 0.25481350299747685)\n",
      "For n_clusters = 5, silhouette score is 0.23568416191271616)\n",
      "For n_clusters = 6, silhouette score is 0.21689390453313623)\n",
      "For n_clusters = 7, silhouette score is 0.20818293287627865)\n",
      "For n_clusters = 8, silhouette score is 0.19945166893733735)\n",
      "For n_clusters = 9, silhouette score is 0.20768885865767597)\n",
      "For n_clusters = 10, silhouette score is 0.21595762847111483)\n",
      "For n_clusters = 11, silhouette score is 0.20121944969840225)\n",
      "For n_clusters = 12, silhouette score is 0.1993765270926714)\n",
      "For n_clusters = 13, silhouette score is 0.20620893631965828)\n",
      "For n_clusters = 14, silhouette score is 0.2017861809509407)\n"
     ]
    }
   ],
   "source": [
    "## TODO: For each score track the highest score within the range (2-15) !!Dont count for 1\n",
    "from sklearn.metrics import silhouette_score\n",
    "for n_clusters in range(2,15):\n",
    "    clusterer = KMeans (n_clusters=n_clusters)\n",
    "    preds = clusterer.fit_predict(songs_features)\n",
    "    centers = clusterer.cluster_centers_\n",
    "\n",
    "    score = silhouette_score (songs_features, preds, metric='euclidean')\n",
    "    op_k = score\n",
    "    if score < op_k:\n",
    "        op_k = score\n",
    "    print (\"For n_clusters = {}, silhouette score is {})\".format(n_clusters, score))\n",
    "    \n",
    "    #print(op_k)"
   ]
  },
  {
   "cell_type": "code",
   "execution_count": 432,
   "metadata": {},
   "outputs": [
    {
     "data": {
      "image/png": "[encoded data removed]",
      "text/plain": [
       "<Figure size 432x288 with 1 Axes>"
      ]
     },
     "metadata": {},
     "output_type": "display_data"
    }
   ],
   "source": [
    "plt.plot(K, Sum_of_squared_distances, 'gx-')\n",
    "plt.xlabel('k')\n",
    "plt.ylabel('Sum_of_squared_distances')\n",
    "plt.title('Elbow Method For Optimal k')\n",
    "plt.show()"
   ]
  },
  {
   "cell_type": "code",
   "execution_count": 433,
   "metadata": {},
   "outputs": [
    {
     "data": {
      "text/plain": [
       "KMeans(algorithm='auto', copy_x=True, init='k-means++', max_iter=300,\n",
       "       n_clusters=4, n_init=10, n_jobs=None, precompute_distances='auto',\n",
       "       random_state=None, tol=0.0001, verbose=0)"
      ]
     },
     "execution_count": 433,
     "metadata": {},
     "output_type": "execute_result"
    }
   ],
   "source": [
    "kmeans = KMeans(n_clusters=4)\n",
    "kmeans.fit(songs_features)"
   ]
  },
  {
   "cell_type": "code",
   "execution_count": 434,
   "metadata": {},
   "outputs": [],
   "source": [
    "# PCA to reduce our data to 2 dimensions for visualisation\n",
    "from sklearn.decomposition import PCA\n",
    "y_kmeans = kmeans.predict(songs_features)\n",
    "pca = PCA(n_components=2)\n",
    "principal_components = pca.fit_transform(songs_features)"
   ]
  },
  {
   "cell_type": "code",
   "execution_count": 435,
   "metadata": {},
   "outputs": [
    {
     "data": {
      "image/png": "[encoded data removed]",
      "text/plain": [
       "<Figure size 401.625x360 with 1 Axes>"
      ]
     },
     "metadata": {},
     "output_type": "display_data"
    }
   ],
   "source": [
    "pc = pd.DataFrame(principal_components)\n",
    "pc['label'] = y_kmeans\n",
    "pc.columns = ['x', 'y','label']\n",
    "\n",
    "#plot data with seaborn\n",
    "cluster = sns.lmplot(data=pc, x='x', y='y', hue='label', \n",
    "                   fit_reg=False, legend=True, legend_out=True)"
   ]
  },
  {
   "cell_type": "code",
   "execution_count": 436,
   "metadata": {},
   "outputs": [],
   "source": [
    "from sklearn.manifold import TSNE #T-Distributed Stochastic Neighbor Embedding\n",
    "#T-SNE with two dimensions\n",
    "tsne = TSNE(n_components=2, perplexity=50)\n",
    "\n",
    "tsne_components = tsne.fit_transform(songs_features)"
   ]
  },
  {
   "cell_type": "code",
   "execution_count": 437,
   "metadata": {},
   "outputs": [
    {
     "data": {
      "image/png": "[encoded data removed]",
      "text/plain": [
       "<Figure size 401.625x360 with 1 Axes>"
      ]
     },
     "metadata": {},
     "output_type": "display_data"
    }
   ],
   "source": [
    "ts = pd.DataFrame(tsne_components)\n",
    "ts['label'] = y_kmeans\n",
    "ts.columns = ['x', 'y','label']\n",
    "\n",
    "#plot data with seaborn\n",
    "cluster = sns.lmplot(data=ts, x='x', y='y', hue='label', \n",
    "                   fit_reg=False, legend=True, legend_out=True)"
   ]
  },
  {
   "cell_type": "code",
   "execution_count": 438,
   "metadata": {},
   "outputs": [
    {
     "name": "stdout",
     "output_type": "stream",
     "text": [
      "      danceability    energy  loudness  speechiness     tempo   valence\n",
      "PC-1      0.066038 -0.647401 -0.478291    -0.010195 -0.478291 -0.344793\n",
      "PC-2      0.452030 -0.196774 -0.140812     0.056558 -0.140812  0.845041\n"
     ]
    }
   ],
   "source": [
    "print (pd.DataFrame(pca.components_,columns=songs_features.columns,index = ['PC-1','PC-2']))"
   ]
  },
  {
   "cell_type": "code",
   "execution_count": 439,
   "metadata": {},
   "outputs": [
    {
     "data": {
      "text/plain": [
       "1    147\n",
       "2    139\n",
       "3    120\n",
       "0     43\n",
       "Name: label, dtype: int64"
      ]
     },
     "execution_count": 439,
     "metadata": {},
     "output_type": "execute_result"
    }
   ],
   "source": [
    "#analyzing each cluster of data\n",
    "df['label'] = y_kmeans\n",
    "\n",
    "# shuffle dataset\n",
    "\n",
    "df = df.sample(frac=1)\n",
    "df['label'].value_counts()"
   ]
  },
  {
   "cell_type": "code",
   "execution_count": null,
   "metadata": {},
   "outputs": [],
   "source": [
    "df[df['label'] == 0].tail(50)"
   ]
  },
  {
   "cell_type": "code",
   "execution_count": null,
   "metadata": {},
   "outputs": [],
   "source": [
    "songs[songs['label']==1].head(15)"
   ]
  },
  {
   "cell_type": "code",
   "execution_count": null,
   "metadata": {},
   "outputs": [],
   "source": [
    "songs[songs['label']==2].head(30)"
   ]
  },
  {
   "cell_type": "code",
   "execution_count": null,
   "metadata": {},
   "outputs": [],
   "source": [
    "songs[songs['label']==3].head(40)"
   ]
  },
  {
   "cell_type": "code",
   "execution_count": null,
   "metadata": {},
   "outputs": [],
   "source": [
    "df[df['label']==2].hist()"
   ]
  },
  {
   "cell_type": "code",
   "execution_count": null,
   "metadata": {},
   "outputs": [],
   "source": [
    "songs[songs['label']==3].mean()"
   ]
  },
  {
   "cell_type": "code",
   "execution_count": null,
   "metadata": {},
   "outputs": [],
   "source": [
    "from sklearn.ensemble import RandomForestClassifier\n",
    "from sklearn.model_selection import train_test_split\n",
    "from sklearn.model_selection import cross_val_score\n",
    "from sklearn.metrics import classification_report, confusion_matrix\n",
    "from sklearn.utils.multiclass import unique_labels\n",
    "\n",
    "X = songs_features\n",
    "y = y_kmeans\n",
    "\n",
    "X_train, X_test, y_train, y_test = train_test_split(X, y, test_size=0.33)\n",
    "\n",
    "rfc = RandomForestClassifier(n_estimators=100,criterion='gini')\n",
    "rfc.fit(X_train,y_train)"
   ]
  },
  {
   "cell_type": "code",
   "execution_count": null,
   "metadata": {},
   "outputs": [],
   "source": [
    "# Predicting the Test set results\n",
    "y_pred = rfc.predict(X_test)"
   ]
  },
  {
   "cell_type": "code",
   "execution_count": null,
   "metadata": {},
   "outputs": [],
   "source": []
  },
  {
   "cell_type": "code",
   "execution_count": null,
   "metadata": {},
   "outputs": [],
   "source": []
  },
  {
   "cell_type": "code",
   "execution_count": null,
   "metadata": {},
   "outputs": [],
   "source": []
  },
  {
   "cell_type": "code",
   "execution_count": null,
   "metadata": {},
   "outputs": [],
   "source": []
  },
  {
   "cell_type": "code",
   "execution_count": null,
   "metadata": {},
   "outputs": [],
   "source": []
  },
  {
   "cell_type": "code",
   "execution_count": null,
   "metadata": {},
   "outputs": [],
   "source": []
  },
  {
   "cell_type": "code",
   "execution_count": null,
   "metadata": {},
   "outputs": [],
   "source": []
  },
  {
   "cell_type": "code",
   "execution_count": null,
   "metadata": {},
   "outputs": [],
   "source": []
  },
  {
   "cell_type": "code",
   "execution_count": null,
   "metadata": {},
   "outputs": [],
   "source": [
    "\n"
   ]
  },
  {
   "cell_type": "code",
   "execution_count": null,
   "metadata": {},
   "outputs": [],
   "source": []
  },
  {
   "cell_type": "code",
   "execution_count": null,
   "metadata": {},
   "outputs": [],
   "source": []
  },
  {
   "cell_type": "code",
   "execution_count": null,
   "metadata": {},
   "outputs": [],
   "source": []
  },
  {
   "cell_type": "code",
   "execution_count": null,
   "metadata": {},
   "outputs": [],
   "source": []
  },
  {
   "cell_type": "code",
   "execution_count": null,
   "metadata": {},
   "outputs": [],
   "source": []
  },
  {
   "cell_type": "code",
   "execution_count": null,
   "metadata": {},
   "outputs": [],
   "source": []
  },
  {
   "cell_type": "code",
   "execution_count": null,
   "metadata": {},
   "outputs": [],
   "source": []
  },
  {
   "cell_type": "code",
   "execution_count": null,
   "metadata": {},
   "outputs": [],
   "source": []
  },
  {
   "cell_type": "code",
   "execution_count": null,
   "metadata": {},
   "outputs": [],
   "source": []
  },
  {
   "cell_type": "code",
   "execution_count": null,
   "metadata": {},
   "outputs": [],
   "source": []
  },
  {
   "cell_type": "code",
   "execution_count": null,
   "metadata": {},
   "outputs": [],
   "source": []
  },
  {
   "cell_type": "code",
   "execution_count": null,
   "metadata": {},
   "outputs": [],
   "source": []
  },
  {
   "cell_type": "code",
   "execution_count": null,
   "metadata": {},
   "outputs": [],
   "source": []
  },
  {
   "cell_type": "code",
   "execution_count": null,
   "metadata": {},
   "outputs": [],
   "source": []
  },
  {
   "cell_type": "code",
   "execution_count": null,
   "metadata": {},
   "outputs": [],
   "source": []
  },
  {
   "cell_type": "code",
   "execution_count": null,
   "metadata": {},
   "outputs": [],
   "source": []
  },
  {
   "cell_type": "code",
   "execution_count": null,
   "metadata": {},
   "outputs": [],
   "source": []
  },
  {
   "cell_type": "code",
   "execution_count": null,
   "metadata": {},
   "outputs": [],
   "source": []
  },
  {
   "cell_type": "code",
   "execution_count": null,
   "metadata": {},
   "outputs": [],
   "source": []
  },
  {
   "cell_type": "code",
   "execution_count": null,
   "metadata": {},
   "outputs": [],
   "source": []
  },
  {
   "cell_type": "code",
   "execution_count": null,
   "metadata": {},
   "outputs": [],
   "source": []
  },
  {
   "cell_type": "code",
   "execution_count": null,
   "metadata": {},
   "outputs": [],
   "source": []
  },
  {
   "cell_type": "code",
   "execution_count": null,
   "metadata": {},
   "outputs": [],
   "source": []
  },
  {
   "cell_type": "code",
   "execution_count": null,
   "metadata": {},
   "outputs": [],
   "source": []
  },
  {
   "cell_type": "code",
   "execution_count": null,
   "metadata": {},
   "outputs": [],
   "source": []
  },
  {
   "cell_type": "code",
   "execution_count": null,
   "metadata": {},
   "outputs": [],
   "source": []
  },
  {
   "cell_type": "code",
   "execution_count": null,
   "metadata": {},
   "outputs": [],
   "source": []
  }
 ],
 "metadata": {
  "kernelspec": {
   "display_name": "Python 3",
   "language": "python",
   "name": "python3"
  },
  "language_info": {
   "codemirror_mode": {
    "name": "ipython",
    "version": 3
   },
   "file_extension": ".py",
   "mimetype": "text/x-python",
   "name": "python",
   "nbconvert_exporter": "python",
   "pygments_lexer": "ipython3",
   "version": "3.8.1"
  }
 },
 "nbformat": 4,
 "nbformat_minor": 4
}
